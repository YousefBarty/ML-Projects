{
  "nbformat": 4,
  "nbformat_minor": 0,
  "metadata": {
    "colab": {
      "provenance": [],
      "authorship_tag": "ABX9TyMO+4/JkvlPRg3A+f+syTIw",
      "include_colab_link": true
    },
    "kernelspec": {
      "name": "python3",
      "display_name": "Python 3"
    },
    "language_info": {
      "name": "python"
    }
  },
  "cells": [
    {
      "cell_type": "markdown",
      "metadata": {
        "id": "view-in-github",
        "colab_type": "text"
      },
      "source": [
        "<a href=\"https://colab.research.google.com/github/YousefBarty/ML-Projects/blob/main/MLPACK_avocado_dataset.ipynb\" target=\"_parent\"><img src=\"https://colab.research.google.com/assets/colab-badge.svg\" alt=\"Open In Colab\"/></a>"
      ]
    },
    {
      "cell_type": "code",
      "execution_count": null,
      "metadata": {
        "colab": {
          "base_uri": "https://localhost:8080/"
        },
        "id": "e7LhbGiv8fR9",
        "outputId": "e0585aac-6c95-499c-cdd7-196da6ffd6ba"
      },
      "outputs": [
        {
          "output_type": "stream",
          "name": "stdout",
          "text": [
            "Looking in indexes: https://pypi.org/simple, https://us-python.pkg.dev/colab-wheels/public/simple/\n",
            "Collecting mlpack\n",
            "  Downloading mlpack-3.4.2-cp37-cp37m-manylinux1_x86_64.whl (93.0 MB)\n",
            "\u001b[K     |████████████████████████████████| 93.0 MB 72 kB/s \n",
            "\u001b[?25hRequirement already satisfied: numpy in /usr/local/lib/python3.7/dist-packages (from mlpack) (1.21.6)\n",
            "Requirement already satisfied: pandas in /usr/local/lib/python3.7/dist-packages (from mlpack) (1.3.5)\n",
            "Requirement already satisfied: cython>=0.24 in /usr/local/lib/python3.7/dist-packages (from mlpack) (0.29.32)\n",
            "Requirement already satisfied: pytz>=2017.3 in /usr/local/lib/python3.7/dist-packages (from pandas->mlpack) (2022.4)\n",
            "Requirement already satisfied: python-dateutil>=2.7.3 in /usr/local/lib/python3.7/dist-packages (from pandas->mlpack) (2.8.2)\n",
            "Requirement already satisfied: six>=1.5 in /usr/local/lib/python3.7/dist-packages (from python-dateutil>=2.7.3->pandas->mlpack) (1.15.0)\n",
            "Installing collected packages: mlpack\n",
            "Successfully installed mlpack-3.4.2\n"
          ]
        }
      ],
      "source": [
        "pip install mlpack"
      ]
    },
    {
      "cell_type": "code",
      "source": [
        "import mlpack\n",
        "from mlpack import linear_regression\n",
        "import pandas as pd\n",
        "import numpy as np"
      ],
      "metadata": {
        "id": "IZCB10JC8qq4"
      },
      "execution_count": null,
      "outputs": []
    },
    {
      "cell_type": "code",
      "source": [
        "avocadoData = pd.read_csv(\"avocado.csv\", index_col=0)"
      ],
      "metadata": {
        "id": "k1iJub13MWw1"
      },
      "execution_count": null,
      "outputs": []
    },
    {
      "cell_type": "code",
      "source": [
        "avocadoData.head()\n"
      ],
      "metadata": {
        "colab": {
          "base_uri": "https://localhost:8080/",
          "height": 250
        },
        "id": "uE3OHuV9M0DM",
        "outputId": "5a244580-a217-4720-eaf4-f056c0bb56f6"
      },
      "execution_count": null,
      "outputs": [
        {
          "output_type": "execute_result",
          "data": {
            "text/plain": [
              "         Date  AveragePrice  Total Volume     4046       4225    4770  \\\n",
              "0  2015-12-27          1.33      64236.62  1036.74   54454.85   48.16   \n",
              "1  2015-12-20          1.35      54876.98   674.28   44638.81   58.33   \n",
              "2  2015-12-13          0.93     118220.22   794.70  109149.67  130.50   \n",
              "3  2015-12-06          1.08      78992.15  1132.00   71976.41   72.58   \n",
              "4  2015-11-29          1.28      51039.60   941.48   43838.39   75.78   \n",
              "\n",
              "   Total Bags  Small Bags  Large Bags  XLarge Bags          type  year  region  \n",
              "0     8696.87     8603.62       93.25          0.0  conventional  2015  Albany  \n",
              "1     9505.56     9408.07       97.49          0.0  conventional  2015  Albany  \n",
              "2     8145.35     8042.21      103.14          0.0  conventional  2015  Albany  \n",
              "3     5811.16     5677.40      133.76          0.0  conventional  2015  Albany  \n",
              "4     6183.95     5986.26      197.69          0.0  conventional  2015  Albany  "
            ],
            "text/html": [
              "\n",
              "  <div id=\"df-07461fa1-39b2-4a49-8589-45e9bd5ca7b2\">\n",
              "    <div class=\"colab-df-container\">\n",
              "      <div>\n",
              "<style scoped>\n",
              "    .dataframe tbody tr th:only-of-type {\n",
              "        vertical-align: middle;\n",
              "    }\n",
              "\n",
              "    .dataframe tbody tr th {\n",
              "        vertical-align: top;\n",
              "    }\n",
              "\n",
              "    .dataframe thead th {\n",
              "        text-align: right;\n",
              "    }\n",
              "</style>\n",
              "<table border=\"1\" class=\"dataframe\">\n",
              "  <thead>\n",
              "    <tr style=\"text-align: right;\">\n",
              "      <th></th>\n",
              "      <th>Date</th>\n",
              "      <th>AveragePrice</th>\n",
              "      <th>Total Volume</th>\n",
              "      <th>4046</th>\n",
              "      <th>4225</th>\n",
              "      <th>4770</th>\n",
              "      <th>Total Bags</th>\n",
              "      <th>Small Bags</th>\n",
              "      <th>Large Bags</th>\n",
              "      <th>XLarge Bags</th>\n",
              "      <th>type</th>\n",
              "      <th>year</th>\n",
              "      <th>region</th>\n",
              "    </tr>\n",
              "  </thead>\n",
              "  <tbody>\n",
              "    <tr>\n",
              "      <th>0</th>\n",
              "      <td>2015-12-27</td>\n",
              "      <td>1.33</td>\n",
              "      <td>64236.62</td>\n",
              "      <td>1036.74</td>\n",
              "      <td>54454.85</td>\n",
              "      <td>48.16</td>\n",
              "      <td>8696.87</td>\n",
              "      <td>8603.62</td>\n",
              "      <td>93.25</td>\n",
              "      <td>0.0</td>\n",
              "      <td>conventional</td>\n",
              "      <td>2015</td>\n",
              "      <td>Albany</td>\n",
              "    </tr>\n",
              "    <tr>\n",
              "      <th>1</th>\n",
              "      <td>2015-12-20</td>\n",
              "      <td>1.35</td>\n",
              "      <td>54876.98</td>\n",
              "      <td>674.28</td>\n",
              "      <td>44638.81</td>\n",
              "      <td>58.33</td>\n",
              "      <td>9505.56</td>\n",
              "      <td>9408.07</td>\n",
              "      <td>97.49</td>\n",
              "      <td>0.0</td>\n",
              "      <td>conventional</td>\n",
              "      <td>2015</td>\n",
              "      <td>Albany</td>\n",
              "    </tr>\n",
              "    <tr>\n",
              "      <th>2</th>\n",
              "      <td>2015-12-13</td>\n",
              "      <td>0.93</td>\n",
              "      <td>118220.22</td>\n",
              "      <td>794.70</td>\n",
              "      <td>109149.67</td>\n",
              "      <td>130.50</td>\n",
              "      <td>8145.35</td>\n",
              "      <td>8042.21</td>\n",
              "      <td>103.14</td>\n",
              "      <td>0.0</td>\n",
              "      <td>conventional</td>\n",
              "      <td>2015</td>\n",
              "      <td>Albany</td>\n",
              "    </tr>\n",
              "    <tr>\n",
              "      <th>3</th>\n",
              "      <td>2015-12-06</td>\n",
              "      <td>1.08</td>\n",
              "      <td>78992.15</td>\n",
              "      <td>1132.00</td>\n",
              "      <td>71976.41</td>\n",
              "      <td>72.58</td>\n",
              "      <td>5811.16</td>\n",
              "      <td>5677.40</td>\n",
              "      <td>133.76</td>\n",
              "      <td>0.0</td>\n",
              "      <td>conventional</td>\n",
              "      <td>2015</td>\n",
              "      <td>Albany</td>\n",
              "    </tr>\n",
              "    <tr>\n",
              "      <th>4</th>\n",
              "      <td>2015-11-29</td>\n",
              "      <td>1.28</td>\n",
              "      <td>51039.60</td>\n",
              "      <td>941.48</td>\n",
              "      <td>43838.39</td>\n",
              "      <td>75.78</td>\n",
              "      <td>6183.95</td>\n",
              "      <td>5986.26</td>\n",
              "      <td>197.69</td>\n",
              "      <td>0.0</td>\n",
              "      <td>conventional</td>\n",
              "      <td>2015</td>\n",
              "      <td>Albany</td>\n",
              "    </tr>\n",
              "  </tbody>\n",
              "</table>\n",
              "</div>\n",
              "      <button class=\"colab-df-convert\" onclick=\"convertToInteractive('df-07461fa1-39b2-4a49-8589-45e9bd5ca7b2')\"\n",
              "              title=\"Convert this dataframe to an interactive table.\"\n",
              "              style=\"display:none;\">\n",
              "        \n",
              "  <svg xmlns=\"http://www.w3.org/2000/svg\" height=\"24px\"viewBox=\"0 0 24 24\"\n",
              "       width=\"24px\">\n",
              "    <path d=\"M0 0h24v24H0V0z\" fill=\"none\"/>\n",
              "    <path d=\"M18.56 5.44l.94 2.06.94-2.06 2.06-.94-2.06-.94-.94-2.06-.94 2.06-2.06.94zm-11 1L8.5 8.5l.94-2.06 2.06-.94-2.06-.94L8.5 2.5l-.94 2.06-2.06.94zm10 10l.94 2.06.94-2.06 2.06-.94-2.06-.94-.94-2.06-.94 2.06-2.06.94z\"/><path d=\"M17.41 7.96l-1.37-1.37c-.4-.4-.92-.59-1.43-.59-.52 0-1.04.2-1.43.59L10.3 9.45l-7.72 7.72c-.78.78-.78 2.05 0 2.83L4 21.41c.39.39.9.59 1.41.59.51 0 1.02-.2 1.41-.59l7.78-7.78 2.81-2.81c.8-.78.8-2.07 0-2.86zM5.41 20L4 18.59l7.72-7.72 1.47 1.35L5.41 20z\"/>\n",
              "  </svg>\n",
              "      </button>\n",
              "      \n",
              "  <style>\n",
              "    .colab-df-container {\n",
              "      display:flex;\n",
              "      flex-wrap:wrap;\n",
              "      gap: 12px;\n",
              "    }\n",
              "\n",
              "    .colab-df-convert {\n",
              "      background-color: #E8F0FE;\n",
              "      border: none;\n",
              "      border-radius: 50%;\n",
              "      cursor: pointer;\n",
              "      display: none;\n",
              "      fill: #1967D2;\n",
              "      height: 32px;\n",
              "      padding: 0 0 0 0;\n",
              "      width: 32px;\n",
              "    }\n",
              "\n",
              "    .colab-df-convert:hover {\n",
              "      background-color: #E2EBFA;\n",
              "      box-shadow: 0px 1px 2px rgba(60, 64, 67, 0.3), 0px 1px 3px 1px rgba(60, 64, 67, 0.15);\n",
              "      fill: #174EA6;\n",
              "    }\n",
              "\n",
              "    [theme=dark] .colab-df-convert {\n",
              "      background-color: #3B4455;\n",
              "      fill: #D2E3FC;\n",
              "    }\n",
              "\n",
              "    [theme=dark] .colab-df-convert:hover {\n",
              "      background-color: #434B5C;\n",
              "      box-shadow: 0px 1px 3px 1px rgba(0, 0, 0, 0.15);\n",
              "      filter: drop-shadow(0px 1px 2px rgba(0, 0, 0, 0.3));\n",
              "      fill: #FFFFFF;\n",
              "    }\n",
              "  </style>\n",
              "\n",
              "      <script>\n",
              "        const buttonEl =\n",
              "          document.querySelector('#df-07461fa1-39b2-4a49-8589-45e9bd5ca7b2 button.colab-df-convert');\n",
              "        buttonEl.style.display =\n",
              "          google.colab.kernel.accessAllowed ? 'block' : 'none';\n",
              "\n",
              "        async function convertToInteractive(key) {\n",
              "          const element = document.querySelector('#df-07461fa1-39b2-4a49-8589-45e9bd5ca7b2');\n",
              "          const dataTable =\n",
              "            await google.colab.kernel.invokeFunction('convertToInteractive',\n",
              "                                                     [key], {});\n",
              "          if (!dataTable) return;\n",
              "\n",
              "          const docLinkHtml = 'Like what you see? Visit the ' +\n",
              "            '<a target=\"_blank\" href=https://colab.research.google.com/notebooks/data_table.ipynb>data table notebook</a>'\n",
              "            + ' to learn more about interactive tables.';\n",
              "          element.innerHTML = '';\n",
              "          dataTable['output_type'] = 'display_data';\n",
              "          await google.colab.output.renderOutput(dataTable, element);\n",
              "          const docLink = document.createElement('div');\n",
              "          docLink.innerHTML = docLinkHtml;\n",
              "          element.appendChild(docLink);\n",
              "        }\n",
              "      </script>\n",
              "    </div>\n",
              "  </div>\n",
              "  "
            ]
          },
          "metadata": {},
          "execution_count": 31
        }
      ]
    },
    {
      "cell_type": "code",
      "source": [
        "avocadoData['Date'] = pd.to_datetime(avocadoData.Date)\n",
        "avocadoData.sort_values(by = ['Date'], inplace = True, ascending = True)"
      ],
      "metadata": {
        "id": "iqoGLoGrM1rX"
      },
      "execution_count": null,
      "outputs": []
    },
    {
      "cell_type": "code",
      "source": [
        "meanDates = avocadoData.groupby(\"Date\").mean()\n"
      ],
      "metadata": {
        "id": "hnphwLOQNFAB"
      },
      "execution_count": null,
      "outputs": []
    },
    {
      "cell_type": "code",
      "source": [
        "features = [\"4046\", \"4225\", \"4770\", \"Small Bags\", \"Large Bags\", \"XLarge Bags\", \"type\", \"year\", \"region\"]\n"
      ],
      "metadata": {
        "id": "m9_QcQRMNGgb"
      },
      "execution_count": null,
      "outputs": []
    },
    {
      "cell_type": "code",
      "source": [
        "# Split data into features (X) and targets (y).\n",
        "\n",
        "X = avocadoData[features]\n",
        "y = avocadoData[\"AveragePrice\"]\n",
        "y = np.log1p(y)\n"
      ],
      "metadata": {
        "id": "atAwoh84NKO7"
      },
      "execution_count": null,
      "outputs": []
    },
    {
      "cell_type": "code",
      "source": [
        "# Utility functions for onehot encoding.\n",
        "\n",
        "def one_hot_encode(data, dimensions, drop=False):\n",
        "    data = data.copy()\n",
        "    for dim in dimensions:\n",
        "        if(type(data.iloc[:,dim].values[0]) == str):\n",
        "            uniq = data.iloc[:, dim].unique()\n",
        "            for val in uniq:\n",
        "                data[f\"{data.columns[dim]}_{val}\"] = data.iloc[:,dim].apply(lambda x: 1 if x == val else 0)\n",
        "    if drop:\n",
        "        data.drop(data.columns[dimensions], axis=1, inplace=True)\n",
        "    return data"
      ],
      "metadata": {
        "id": "IPobM4iZNL6U"
      },
      "execution_count": null,
      "outputs": []
    },
    {
      "cell_type": "code",
      "source": [
        "X = one_hot_encode(X, [6,8], True)\n"
      ],
      "metadata": {
        "id": "IfZDpdwYNNtl"
      },
      "execution_count": null,
      "outputs": []
    },
    {
      "cell_type": "code",
      "source": [
        "train_len = len(X)\n",
        "train_idxs = list(range(train_len))\n",
        "np.random.shuffle(train_idxs)\n",
        "split = int(np.floor(0.2 * train_len))\n",
        "Xtest = X.iloc[:split, :].values\n",
        "Xtrain = X.iloc[split:, :].values\n",
        "ytest = y.iloc[:split].values\n",
        "ytrain = y.iloc[split:].values"
      ],
      "metadata": {
        "id": "wYNloqc0NQU_"
      },
      "execution_count": null,
      "outputs": []
    },
    {
      "cell_type": "code",
      "source": [
        "# Create and train Linear Regression model.\n",
        "output = mlpack.linear_regression(training=Xtrain, training_responses=ytrain, lambda_=0.5, verbose=True)"
      ],
      "metadata": {
        "id": "v9TClfeyNRoc"
      },
      "execution_count": null,
      "outputs": []
    },
    {
      "cell_type": "code",
      "source": [
        "model = output[\"output_model\"]\n"
      ],
      "metadata": {
        "id": "c7lxSnfdN6ax"
      },
      "execution_count": null,
      "outputs": []
    },
    {
      "cell_type": "code",
      "source": [
        "predictions = mlpack.linear_regression(input_model=model, test=Xtest)\n"
      ],
      "metadata": {
        "id": "9PCERDP9OEDj"
      },
      "execution_count": null,
      "outputs": []
    },
    {
      "cell_type": "code",
      "source": [
        "yPreds = predictions[\"output_predictions\"].reshape(-1, 1).squeeze()\n"
      ],
      "metadata": {
        "id": "FLbGwFesOFON"
      },
      "execution_count": null,
      "outputs": []
    },
    {
      "cell_type": "code",
      "source": [
        "\n",
        "def mae(y_true, y_preds):\n",
        "    return np.mean(np.abs(y_preds - y_true))\n",
        "\n",
        "def mse(y_true, y_preds):\n",
        "    return np.mean(np.power(y_preds - y_true, 2))"
      ],
      "metadata": {
        "id": "P3Ry18d5OGau"
      },
      "execution_count": null,
      "outputs": []
    },
    {
      "cell_type": "code",
      "source": [
        "print(\"---- Evaluation Metrics ----\")\n",
        "print(f\"Mean Absoulte Error: {mae(ytest, yPreds):.2f}\")\n",
        "print(f\"Mean Squared Error: {mse(ytest, yPreds):.2f}\")\n",
        "print(f\"Root Mean Squared Error: {np.sqrt(mse(ytest, yPreds)):.2f}\")"
      ],
      "metadata": {
        "colab": {
          "base_uri": "https://localhost:8080/"
        },
        "id": "mXlM-XJTOK1V",
        "outputId": "05ac99fb-5e09-4f1e-8247-a76c4989efb3"
      },
      "execution_count": null,
      "outputs": [
        {
          "output_type": "stream",
          "name": "stdout",
          "text": [
            "---- Evaluation Metrics ----\n",
            "Mean Absoulte Error: 0.06\n",
            "Mean Squared Error: 0.01\n",
            "Root Mean Squared Error: 0.08\n"
          ]
        }
      ]
    }
  ]
}
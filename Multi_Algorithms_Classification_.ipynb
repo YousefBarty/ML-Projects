{
  "nbformat": 4,
  "nbformat_minor": 0,
  "metadata": {
    "colab": {
      "provenance": [],
      "authorship_tag": "ABX9TyP6YT8kryQ9Jou5l4YE0QeN",
      "include_colab_link": true
    },
    "kernelspec": {
      "name": "python3",
      "display_name": "Python 3"
    },
    "language_info": {
      "name": "python"
    }
  },
  "cells": [
    {
      "cell_type": "markdown",
      "metadata": {
        "id": "view-in-github",
        "colab_type": "text"
      },
      "source": [
        "<a href=\"https://colab.research.google.com/github/YousefBarty/ML-Projects/blob/main/Multi_Algorithms_Classification_.ipynb\" target=\"_parent\"><img src=\"https://colab.research.google.com/assets/colab-badge.svg\" alt=\"Open In Colab\"/></a>"
      ]
    },
    {
      "cell_type": "code",
      "execution_count": null,
      "metadata": {
        "colab": {
          "base_uri": "https://localhost:8080/"
        },
        "id": "Gi9VdJVAkXE_",
        "outputId": "d1cff7e0-3d3f-471c-da9e-018c00364690"
      },
      "outputs": [
        {
          "output_type": "stream",
          "name": "stdout",
          "text": [
            "Mounted at /content/drive\n"
          ]
        }
      ],
      "source": [
        "from google.colab import drive\n",
        "drive.mount('/content/drive')"
      ]
    },
    {
      "cell_type": "code",
      "source": [
        "import pandas as pd\n",
        "from sklearn.preprocessing import MinMaxScaler\n",
        "from sklearn.model_selection import train_test_split\n",
        "from sklearn.metrics import accuracy_score\n",
        "import numpy as np\n",
        "\n",
        "from sklearn.linear_model import LogisticRegression\n",
        "from sklearn.svm import SVC\n",
        "from sklearn.linear_model import Perceptron , SGDClassifier\n",
        "from sklearn.neighbors import KNeighborsClassifier\n",
        "from sklearn.ensemble import RandomForestClassifier\n",
        "from sklearn.tree import DecisionTreeClassifier"
      ],
      "metadata": {
        "id": "VUO3uu3ck4V5"
      },
      "execution_count": null,
      "outputs": []
    },
    {
      "cell_type": "code",
      "source": [
        "# dict to save the name of each algorthim and there accuracy\n",
        "re={}"
      ],
      "metadata": {
        "id": "kCUynNtkKkAe"
      },
      "execution_count": null,
      "outputs": []
    },
    {
      "cell_type": "markdown",
      "source": [
        "# Reading Data"
      ],
      "metadata": {
        "id": "ErFclP4AFgKj"
      }
    },
    {
      "cell_type": "code",
      "source": [
        "df = pd.read_csv('/content/drive/MyDrive/breast_cancer.csv')"
      ],
      "metadata": {
        "id": "M-S79n-nk8ij"
      },
      "execution_count": null,
      "outputs": []
    },
    {
      "cell_type": "code",
      "source": [
        "df.head()"
      ],
      "metadata": {
        "colab": {
          "base_uri": "https://localhost:8080/",
          "height": 317
        },
        "id": "EgBehJV0ljQC",
        "outputId": "aeba61da-faf3-4a14-a433-a814618e1850"
      },
      "execution_count": null,
      "outputs": [
        {
          "output_type": "execute_result",
          "data": {
            "text/plain": [
              "         id diagnosis  radius_mean  texture_mean  perimeter_mean  area_mean  \\\n",
              "0    842302         M        17.99         10.38          122.80     1001.0   \n",
              "1    842517         M        20.57         17.77          132.90     1326.0   \n",
              "2  84300903         M        19.69         21.25          130.00     1203.0   \n",
              "3  84348301         M        11.42         20.38           77.58      386.1   \n",
              "4  84358402         M        20.29         14.34          135.10     1297.0   \n",
              "\n",
              "   smoothness_mean  compactness_mean  concavity_mean  concave points_mean  \\\n",
              "0          0.11840           0.27760          0.3001              0.14710   \n",
              "1          0.08474           0.07864          0.0869              0.07017   \n",
              "2          0.10960           0.15990          0.1974              0.12790   \n",
              "3          0.14250           0.28390          0.2414              0.10520   \n",
              "4          0.10030           0.13280          0.1980              0.10430   \n",
              "\n",
              "   ...  texture_worst  perimeter_worst  area_worst  smoothness_worst  \\\n",
              "0  ...          17.33           184.60      2019.0            0.1622   \n",
              "1  ...          23.41           158.80      1956.0            0.1238   \n",
              "2  ...          25.53           152.50      1709.0            0.1444   \n",
              "3  ...          26.50            98.87       567.7            0.2098   \n",
              "4  ...          16.67           152.20      1575.0            0.1374   \n",
              "\n",
              "   compactness_worst  concavity_worst  concave points_worst  symmetry_worst  \\\n",
              "0             0.6656           0.7119                0.2654          0.4601   \n",
              "1             0.1866           0.2416                0.1860          0.2750   \n",
              "2             0.4245           0.4504                0.2430          0.3613   \n",
              "3             0.8663           0.6869                0.2575          0.6638   \n",
              "4             0.2050           0.4000                0.1625          0.2364   \n",
              "\n",
              "   fractal_dimension_worst  Unnamed: 32  \n",
              "0                  0.11890          NaN  \n",
              "1                  0.08902          NaN  \n",
              "2                  0.08758          NaN  \n",
              "3                  0.17300          NaN  \n",
              "4                  0.07678          NaN  \n",
              "\n",
              "[5 rows x 33 columns]"
            ],
            "text/html": [
              "\n",
              "  <div id=\"df-c2bd7c64-0ceb-45f8-877e-2cb0026b9a38\">\n",
              "    <div class=\"colab-df-container\">\n",
              "      <div>\n",
              "<style scoped>\n",
              "    .dataframe tbody tr th:only-of-type {\n",
              "        vertical-align: middle;\n",
              "    }\n",
              "\n",
              "    .dataframe tbody tr th {\n",
              "        vertical-align: top;\n",
              "    }\n",
              "\n",
              "    .dataframe thead th {\n",
              "        text-align: right;\n",
              "    }\n",
              "</style>\n",
              "<table border=\"1\" class=\"dataframe\">\n",
              "  <thead>\n",
              "    <tr style=\"text-align: right;\">\n",
              "      <th></th>\n",
              "      <th>id</th>\n",
              "      <th>diagnosis</th>\n",
              "      <th>radius_mean</th>\n",
              "      <th>texture_mean</th>\n",
              "      <th>perimeter_mean</th>\n",
              "      <th>area_mean</th>\n",
              "      <th>smoothness_mean</th>\n",
              "      <th>compactness_mean</th>\n",
              "      <th>concavity_mean</th>\n",
              "      <th>concave points_mean</th>\n",
              "      <th>...</th>\n",
              "      <th>texture_worst</th>\n",
              "      <th>perimeter_worst</th>\n",
              "      <th>area_worst</th>\n",
              "      <th>smoothness_worst</th>\n",
              "      <th>compactness_worst</th>\n",
              "      <th>concavity_worst</th>\n",
              "      <th>concave points_worst</th>\n",
              "      <th>symmetry_worst</th>\n",
              "      <th>fractal_dimension_worst</th>\n",
              "      <th>Unnamed: 32</th>\n",
              "    </tr>\n",
              "  </thead>\n",
              "  <tbody>\n",
              "    <tr>\n",
              "      <th>0</th>\n",
              "      <td>842302</td>\n",
              "      <td>M</td>\n",
              "      <td>17.99</td>\n",
              "      <td>10.38</td>\n",
              "      <td>122.80</td>\n",
              "      <td>1001.0</td>\n",
              "      <td>0.11840</td>\n",
              "      <td>0.27760</td>\n",
              "      <td>0.3001</td>\n",
              "      <td>0.14710</td>\n",
              "      <td>...</td>\n",
              "      <td>17.33</td>\n",
              "      <td>184.60</td>\n",
              "      <td>2019.0</td>\n",
              "      <td>0.1622</td>\n",
              "      <td>0.6656</td>\n",
              "      <td>0.7119</td>\n",
              "      <td>0.2654</td>\n",
              "      <td>0.4601</td>\n",
              "      <td>0.11890</td>\n",
              "      <td>NaN</td>\n",
              "    </tr>\n",
              "    <tr>\n",
              "      <th>1</th>\n",
              "      <td>842517</td>\n",
              "      <td>M</td>\n",
              "      <td>20.57</td>\n",
              "      <td>17.77</td>\n",
              "      <td>132.90</td>\n",
              "      <td>1326.0</td>\n",
              "      <td>0.08474</td>\n",
              "      <td>0.07864</td>\n",
              "      <td>0.0869</td>\n",
              "      <td>0.07017</td>\n",
              "      <td>...</td>\n",
              "      <td>23.41</td>\n",
              "      <td>158.80</td>\n",
              "      <td>1956.0</td>\n",
              "      <td>0.1238</td>\n",
              "      <td>0.1866</td>\n",
              "      <td>0.2416</td>\n",
              "      <td>0.1860</td>\n",
              "      <td>0.2750</td>\n",
              "      <td>0.08902</td>\n",
              "      <td>NaN</td>\n",
              "    </tr>\n",
              "    <tr>\n",
              "      <th>2</th>\n",
              "      <td>84300903</td>\n",
              "      <td>M</td>\n",
              "      <td>19.69</td>\n",
              "      <td>21.25</td>\n",
              "      <td>130.00</td>\n",
              "      <td>1203.0</td>\n",
              "      <td>0.10960</td>\n",
              "      <td>0.15990</td>\n",
              "      <td>0.1974</td>\n",
              "      <td>0.12790</td>\n",
              "      <td>...</td>\n",
              "      <td>25.53</td>\n",
              "      <td>152.50</td>\n",
              "      <td>1709.0</td>\n",
              "      <td>0.1444</td>\n",
              "      <td>0.4245</td>\n",
              "      <td>0.4504</td>\n",
              "      <td>0.2430</td>\n",
              "      <td>0.3613</td>\n",
              "      <td>0.08758</td>\n",
              "      <td>NaN</td>\n",
              "    </tr>\n",
              "    <tr>\n",
              "      <th>3</th>\n",
              "      <td>84348301</td>\n",
              "      <td>M</td>\n",
              "      <td>11.42</td>\n",
              "      <td>20.38</td>\n",
              "      <td>77.58</td>\n",
              "      <td>386.1</td>\n",
              "      <td>0.14250</td>\n",
              "      <td>0.28390</td>\n",
              "      <td>0.2414</td>\n",
              "      <td>0.10520</td>\n",
              "      <td>...</td>\n",
              "      <td>26.50</td>\n",
              "      <td>98.87</td>\n",
              "      <td>567.7</td>\n",
              "      <td>0.2098</td>\n",
              "      <td>0.8663</td>\n",
              "      <td>0.6869</td>\n",
              "      <td>0.2575</td>\n",
              "      <td>0.6638</td>\n",
              "      <td>0.17300</td>\n",
              "      <td>NaN</td>\n",
              "    </tr>\n",
              "    <tr>\n",
              "      <th>4</th>\n",
              "      <td>84358402</td>\n",
              "      <td>M</td>\n",
              "      <td>20.29</td>\n",
              "      <td>14.34</td>\n",
              "      <td>135.10</td>\n",
              "      <td>1297.0</td>\n",
              "      <td>0.10030</td>\n",
              "      <td>0.13280</td>\n",
              "      <td>0.1980</td>\n",
              "      <td>0.10430</td>\n",
              "      <td>...</td>\n",
              "      <td>16.67</td>\n",
              "      <td>152.20</td>\n",
              "      <td>1575.0</td>\n",
              "      <td>0.1374</td>\n",
              "      <td>0.2050</td>\n",
              "      <td>0.4000</td>\n",
              "      <td>0.1625</td>\n",
              "      <td>0.2364</td>\n",
              "      <td>0.07678</td>\n",
              "      <td>NaN</td>\n",
              "    </tr>\n",
              "  </tbody>\n",
              "</table>\n",
              "<p>5 rows × 33 columns</p>\n",
              "</div>\n",
              "      <button class=\"colab-df-convert\" onclick=\"convertToInteractive('df-c2bd7c64-0ceb-45f8-877e-2cb0026b9a38')\"\n",
              "              title=\"Convert this dataframe to an interactive table.\"\n",
              "              style=\"display:none;\">\n",
              "        \n",
              "  <svg xmlns=\"http://www.w3.org/2000/svg\" height=\"24px\"viewBox=\"0 0 24 24\"\n",
              "       width=\"24px\">\n",
              "    <path d=\"M0 0h24v24H0V0z\" fill=\"none\"/>\n",
              "    <path d=\"M18.56 5.44l.94 2.06.94-2.06 2.06-.94-2.06-.94-.94-2.06-.94 2.06-2.06.94zm-11 1L8.5 8.5l.94-2.06 2.06-.94-2.06-.94L8.5 2.5l-.94 2.06-2.06.94zm10 10l.94 2.06.94-2.06 2.06-.94-2.06-.94-.94-2.06-.94 2.06-2.06.94z\"/><path d=\"M17.41 7.96l-1.37-1.37c-.4-.4-.92-.59-1.43-.59-.52 0-1.04.2-1.43.59L10.3 9.45l-7.72 7.72c-.78.78-.78 2.05 0 2.83L4 21.41c.39.39.9.59 1.41.59.51 0 1.02-.2 1.41-.59l7.78-7.78 2.81-2.81c.8-.78.8-2.07 0-2.86zM5.41 20L4 18.59l7.72-7.72 1.47 1.35L5.41 20z\"/>\n",
              "  </svg>\n",
              "      </button>\n",
              "      \n",
              "  <style>\n",
              "    .colab-df-container {\n",
              "      display:flex;\n",
              "      flex-wrap:wrap;\n",
              "      gap: 12px;\n",
              "    }\n",
              "\n",
              "    .colab-df-convert {\n",
              "      background-color: #E8F0FE;\n",
              "      border: none;\n",
              "      border-radius: 50%;\n",
              "      cursor: pointer;\n",
              "      display: none;\n",
              "      fill: #1967D2;\n",
              "      height: 32px;\n",
              "      padding: 0 0 0 0;\n",
              "      width: 32px;\n",
              "    }\n",
              "\n",
              "    .colab-df-convert:hover {\n",
              "      background-color: #E2EBFA;\n",
              "      box-shadow: 0px 1px 2px rgba(60, 64, 67, 0.3), 0px 1px 3px 1px rgba(60, 64, 67, 0.15);\n",
              "      fill: #174EA6;\n",
              "    }\n",
              "\n",
              "    [theme=dark] .colab-df-convert {\n",
              "      background-color: #3B4455;\n",
              "      fill: #D2E3FC;\n",
              "    }\n",
              "\n",
              "    [theme=dark] .colab-df-convert:hover {\n",
              "      background-color: #434B5C;\n",
              "      box-shadow: 0px 1px 3px 1px rgba(0, 0, 0, 0.15);\n",
              "      filter: drop-shadow(0px 1px 2px rgba(0, 0, 0, 0.3));\n",
              "      fill: #FFFFFF;\n",
              "    }\n",
              "  </style>\n",
              "\n",
              "      <script>\n",
              "        const buttonEl =\n",
              "          document.querySelector('#df-c2bd7c64-0ceb-45f8-877e-2cb0026b9a38 button.colab-df-convert');\n",
              "        buttonEl.style.display =\n",
              "          google.colab.kernel.accessAllowed ? 'block' : 'none';\n",
              "\n",
              "        async function convertToInteractive(key) {\n",
              "          const element = document.querySelector('#df-c2bd7c64-0ceb-45f8-877e-2cb0026b9a38');\n",
              "          const dataTable =\n",
              "            await google.colab.kernel.invokeFunction('convertToInteractive',\n",
              "                                                     [key], {});\n",
              "          if (!dataTable) return;\n",
              "\n",
              "          const docLinkHtml = 'Like what you see? Visit the ' +\n",
              "            '<a target=\"_blank\" href=https://colab.research.google.com/notebooks/data_table.ipynb>data table notebook</a>'\n",
              "            + ' to learn more about interactive tables.';\n",
              "          element.innerHTML = '';\n",
              "          dataTable['output_type'] = 'display_data';\n",
              "          await google.colab.output.renderOutput(dataTable, element);\n",
              "          const docLink = document.createElement('div');\n",
              "          docLink.innerHTML = docLinkHtml;\n",
              "          element.appendChild(docLink);\n",
              "        }\n",
              "      </script>\n",
              "    </div>\n",
              "  </div>\n",
              "  "
            ]
          },
          "metadata": {},
          "execution_count": 102
        }
      ]
    },
    {
      "cell_type": "markdown",
      "source": [
        "# Data preprocessing"
      ],
      "metadata": {
        "id": "B62xo5-_92ct"
      }
    },
    {
      "cell_type": "code",
      "source": [
        "df = df.drop('Unnamed: 32', axis=1)\n",
        "X = df.drop(['id','diagnosis'],axis=1)\n",
        "y = df.iloc[:,1]"
      ],
      "metadata": {
        "id": "oaRucOynlls4"
      },
      "execution_count": null,
      "outputs": []
    },
    {
      "cell_type": "code",
      "source": [
        "X.shape"
      ],
      "metadata": {
        "colab": {
          "base_uri": "https://localhost:8080/"
        },
        "id": "3l0nqgv_KAC7",
        "outputId": "8a9d050a-9841-4be2-cd56-71d9d355bb62"
      },
      "execution_count": null,
      "outputs": [
        {
          "output_type": "execute_result",
          "data": {
            "text/plain": [
              "(569, 30)"
            ]
          },
          "metadata": {},
          "execution_count": 6
        }
      ]
    },
    {
      "cell_type": "code",
      "source": [
        "# Decision trees and ensemble methods do not require feature scaling to be performed as they are not sensitive to the the variance in the data.\n",
        "# https://towardsdatascience.com/do-decision-trees-need-feature-scaling-97809eaa60c6\n",
        "X_train, X_test, y_train, y_test = train_test_split(X, y,stratify=y, test_size=0.3)"
      ],
      "metadata": {
        "id": "1PitoJmWtcKU"
      },
      "execution_count": null,
      "outputs": []
    },
    {
      "cell_type": "markdown",
      "source": [
        "# Decision Tree"
      ],
      "metadata": {
        "id": "8gpIeqkvvz73"
      }
    },
    {
      "cell_type": "markdown",
      "source": [
        "Decision trees and ensemble methods do not require feature scaling to be performed as they are not sensitive to the the variance in the data."
      ],
      "metadata": {
        "id": "r5lM-S44uVNr"
      }
    },
    {
      "cell_type": "code",
      "source": [
        "dt=DecisionTreeClassifier(max_depth=9)\n",
        "dt.fit(X_train,y_train)\n",
        "y_pred = dt.predict(X_test)\n",
        "print((accuracy_score(y_test, y_pred) * 100))\n",
        "re['Decision Tree']=(accuracy_score(y_test, y_pred) * 100)"
      ],
      "metadata": {
        "id": "0y5raGOjma5U",
        "colab": {
          "base_uri": "https://localhost:8080/"
        },
        "outputId": "c301cd59-a45e-4f57-a3c4-6320ee3868d1"
      },
      "execution_count": null,
      "outputs": [
        {
          "output_type": "stream",
          "name": "stdout",
          "text": [
            "93.56725146198829\n"
          ]
        }
      ]
    },
    {
      "cell_type": "code",
      "source": [
        "from sklearn import tree\n",
        "import matplotlib.pyplot as plt\n",
        "_, ax = plt.subplots(figsize=(20,20)) # Resize figure\n",
        "tree.plot_tree(dt, filled=True, ax=ax)"
      ],
      "metadata": {
        "colab": {
          "base_uri": "https://localhost:8080/",
          "height": 1000
        },
        "id": "0zb_31dN8Lm_",
        "outputId": "70040509-c68c-4cb4-ca93-fa2993ccee02"
      },
      "execution_count": null,
      "outputs": [
        {
          "output_type": "execute_result",
          "data": {
            "text/plain": [
              "[Text(0.555, 0.9285714285714286, 'X[22] <= 106.1\\ngini = 0.467\\nsamples = 398\\nvalue = [250, 148]'),\n",
              " Text(0.37, 0.7857142857142857, 'X[27] <= 0.159\\ngini = 0.106\\nsamples = 249\\nvalue = [235, 14]'),\n",
              " Text(0.26, 0.6428571428571429, 'X[27] <= 0.135\\ngini = 0.056\\nsamples = 241\\nvalue = [234, 7]'),\n",
              " Text(0.16, 0.5, 'X[13] <= 48.975\\ngini = 0.026\\nsamples = 228\\nvalue = [225, 3]'),\n",
              " Text(0.08, 0.35714285714285715, 'X[21] <= 33.35\\ngini = 0.009\\nsamples = 225\\nvalue = [224, 1]'),\n",
              " Text(0.04, 0.21428571428571427, 'gini = 0.0\\nsamples = 211\\nvalue = [211, 0]'),\n",
              " Text(0.12, 0.21428571428571427, 'X[27] <= 0.09\\ngini = 0.133\\nsamples = 14\\nvalue = [13, 1]'),\n",
              " Text(0.08, 0.07142857142857142, 'gini = 0.0\\nsamples = 13\\nvalue = [13, 0]'),\n",
              " Text(0.16, 0.07142857142857142, 'gini = 0.0\\nsamples = 1\\nvalue = [0, 1]'),\n",
              " Text(0.24, 0.35714285714285715, 'X[28] <= 0.208\\ngini = 0.444\\nsamples = 3\\nvalue = [1, 2]'),\n",
              " Text(0.2, 0.21428571428571427, 'gini = 0.0\\nsamples = 2\\nvalue = [0, 2]'),\n",
              " Text(0.28, 0.21428571428571427, 'gini = 0.0\\nsamples = 1\\nvalue = [1, 0]'),\n",
              " Text(0.36, 0.5, 'X[21] <= 29.455\\ngini = 0.426\\nsamples = 13\\nvalue = [9, 4]'),\n",
              " Text(0.32, 0.35714285714285715, 'gini = 0.0\\nsamples = 9\\nvalue = [9, 0]'),\n",
              " Text(0.4, 0.35714285714285715, 'gini = 0.0\\nsamples = 4\\nvalue = [0, 4]'),\n",
              " Text(0.48, 0.6428571428571429, 'X[21] <= 23.2\\ngini = 0.219\\nsamples = 8\\nvalue = [1, 7]'),\n",
              " Text(0.44, 0.5, 'gini = 0.0\\nsamples = 1\\nvalue = [1, 0]'),\n",
              " Text(0.52, 0.5, 'gini = 0.0\\nsamples = 7\\nvalue = [0, 7]'),\n",
              " Text(0.74, 0.7857142857142857, 'X[26] <= 0.22\\ngini = 0.181\\nsamples = 149\\nvalue = [15, 134]'),\n",
              " Text(0.64, 0.6428571428571429, 'X[15] <= 0.012\\ngini = 0.18\\nsamples = 10\\nvalue = [9, 1]'),\n",
              " Text(0.6, 0.5, 'gini = 0.0\\nsamples = 1\\nvalue = [0, 1]'),\n",
              " Text(0.68, 0.5, 'gini = 0.0\\nsamples = 9\\nvalue = [9, 0]'),\n",
              " Text(0.84, 0.6428571428571429, 'X[7] <= 0.04\\ngini = 0.083\\nsamples = 139\\nvalue = [6, 133]'),\n",
              " Text(0.76, 0.5, 'X[15] <= 0.017\\ngini = 0.496\\nsamples = 11\\nvalue = [5, 6]'),\n",
              " Text(0.72, 0.35714285714285715, 'gini = 0.0\\nsamples = 6\\nvalue = [0, 6]'),\n",
              " Text(0.8, 0.35714285714285715, 'gini = 0.0\\nsamples = 5\\nvalue = [5, 0]'),\n",
              " Text(0.92, 0.5, 'X[21] <= 18.355\\ngini = 0.016\\nsamples = 128\\nvalue = [1, 127]'),\n",
              " Text(0.88, 0.35714285714285715, 'X[7] <= 0.084\\ngini = 0.32\\nsamples = 5\\nvalue = [1, 4]'),\n",
              " Text(0.84, 0.21428571428571427, 'gini = 0.0\\nsamples = 1\\nvalue = [1, 0]'),\n",
              " Text(0.92, 0.21428571428571427, 'gini = 0.0\\nsamples = 4\\nvalue = [0, 4]'),\n",
              " Text(0.96, 0.35714285714285715, 'gini = 0.0\\nsamples = 123\\nvalue = [0, 123]')]"
            ]
          },
          "metadata": {},
          "execution_count": 9
        },
        {
          "output_type": "display_data",
          "data": {
            "text/plain": [
              "<Figure size 1440x1440 with 1 Axes>"
            ],
            "image/png": "[encoded data removed]"
          },
          "metadata": {
            "needs_background": "light"
          }
        }
      ]
    },
    {
      "cell_type": "markdown",
      "source": [
        "# Random Forest"
      ],
      "metadata": {
        "id": "p-40FxeXKoEt"
      }
    },
    {
      "cell_type": "code",
      "source": [
        "rnc=RandomForestClassifier(n_estimators=15,max_depth=5)\n",
        "rnc.fit(X_train,y_train)\n",
        "y_pred_T = rnc.predict(X_test)\n",
        "print((accuracy_score(y_test, y_pred) * 100))\n",
        "re['Random Forest']=(accuracy_score(y_test, y_pred_T) * 100)"
      ],
      "metadata": {
        "colab": {
          "base_uri": "https://localhost:8080/"
        },
        "id": "-G8l_ulEGtnG",
        "outputId": "8c2b7526-1483-4555-8b43-b586e68f4e0b"
      },
      "execution_count": null,
      "outputs": [
        {
          "output_type": "stream",
          "name": "stdout",
          "text": [
            "93.56725146198829\n"
          ]
        }
      ]
    },
    {
      "cell_type": "markdown",
      "source": [
        "# Data Processing Using << Min Max Scaler >>"
      ],
      "metadata": {
        "id": "pHvUey22ICa7"
      }
    },
    {
      "cell_type": "markdown",
      "source": [
        "###### Many machine learning algorithms perform better or converge faster when features are on a relatively similar scale and/or close to normally distributed. Examples of such algorithm families include:\n",
        "\n",
        "* linear and logistic regression\n",
        "* nearest neighbors\n",
        "* neural networks\n",
        "* support vector machines with radial bias kernel functions\n",
        "* principal components analysis\n",
        "* linear discriminant analysis"
      ],
      "metadata": {
        "id": "NDcojciZvPew"
      }
    },
    {
      "cell_type": "code",
      "source": [
        "# https://www.youtube.com/watch?v=31_JLKI8xPQ&list=PL6-3IRz2XF5X_9JeJh1xeciAbkijvc09k&index=10\n",
        "# normalization (طرح القيمه ناقص المتوسط مقسومه علي المدي( اكبر قيمه واصغر قيمه ) علشان الداتا كلها تكون في رينج 0 و 1 )\n",
        "# https://towardsdatascience.com/scale-standardize-or-normalize-with-scikit-learn-6ccc7d176a02#:~:text=Use%20MinMaxScaler%20if%20you%20want,sample%20rows%2C%20not%20feature%20columns.\n",
        "\n",
        "scaler = MinMaxScaler() # default range (0,1)\n",
        "scaler.fit(X_train) # Compute the minimum and maximum to be used for later scaling.\n",
        "X_train_sc = scaler.transform(X_train) # Fit to data, then transform it."
      ],
      "metadata": {
        "id": "eoZ7z4q3Doot"
      },
      "execution_count": null,
      "outputs": []
    },
    {
      "cell_type": "code",
      "source": [
        "# Use the same object to normalize Test data\n",
        "X_test=scaler.transform(X_test)"
      ],
      "metadata": {
        "id": "yQm20ifw-yqX"
      },
      "execution_count": null,
      "outputs": []
    },
    {
      "cell_type": "markdown",
      "source": [
        "# Logistic Regression"
      ],
      "metadata": {
        "id": "rzDz_KWDnUIR"
      }
    },
    {
      "cell_type": "code",
      "source": [
        "clf = LogisticRegression(max_iter=1000)\n",
        "clf.fit(X_train_sc,y_train)\n",
        "y_pred = clf.predict(X_test)\n",
        "print((accuracy_score(y_test, y_pred) * 100))\n",
        "re['Logistic Regression']=(accuracy_score(y_test, y_pred) * 100)"
      ],
      "metadata": {
        "colab": {
          "base_uri": "https://localhost:8080/"
        },
        "id": "dc21VV5ymRP5",
        "outputId": "13b0e8e5-5cd7-43a5-83f3-c8194ffa313a"
      },
      "execution_count": null,
      "outputs": [
        {
          "output_type": "stream",
          "name": "stdout",
          "text": [
            "96.49122807017544\n"
          ]
        }
      ]
    },
    {
      "cell_type": "markdown",
      "source": [
        "# KNeighbors"
      ],
      "metadata": {
        "id": "wnGlT7JmKtL_"
      }
    },
    {
      "cell_type": "code",
      "source": [
        "knn=KNeighborsClassifier(n_neighbors=9)\n",
        "knn.fit(X_train_sc,y_train)\n",
        "y_pred = knn.predict(X_test)\n",
        "print((accuracy_score(y_test, y_pred) * 100))\n",
        "re['KNeighbors']=(accuracy_score(y_test, y_pred) * 100)"
      ],
      "metadata": {
        "colab": {
          "base_uri": "https://localhost:8080/"
        },
        "id": "RpoGl0NaHTZg",
        "outputId": "04250a7c-2e70-4f62-8969-125ecbae0cf9"
      },
      "execution_count": null,
      "outputs": [
        {
          "output_type": "stream",
          "name": "stdout",
          "text": [
            "96.49122807017544\n"
          ]
        }
      ]
    },
    {
      "cell_type": "markdown",
      "source": [
        "# Perceptron"
      ],
      "metadata": {
        "id": "MFOXLfkLH9L5"
      }
    },
    {
      "cell_type": "code",
      "source": [
        "p=Perceptron(eta0=0.001,max_iter=1000)\n",
        "p.fit(X_train_sc,y_train)\n",
        "y_pred = p.predict(X_test)\n",
        "print((accuracy_score(y_test, y_pred) * 100))\n",
        "re['Perceptron']=(accuracy_score(y_test, y_pred) * 100)"
      ],
      "metadata": {
        "colab": {
          "base_uri": "https://localhost:8080/"
        },
        "id": "S2VaqmTFJztb",
        "outputId": "b66dda12-fe5c-4bea-fa41-eeccddcdaada"
      },
      "execution_count": null,
      "outputs": [
        {
          "output_type": "stream",
          "name": "stdout",
          "text": [
            "61.98830409356725\n"
          ]
        }
      ]
    },
    {
      "cell_type": "markdown",
      "source": [
        "# Adaline "
      ],
      "metadata": {
        "id": "QGQc3AYYH8_O"
      }
    },
    {
      "cell_type": "code",
      "source": [
        "ad=SGDClassifier(max_iter=100,eta0=0.001)\n",
        "ad.fit(X_train_sc,y_train)\n",
        "y_pred = ad.predict(X_test)\n",
        "print((accuracy_score(y_test, y_pred) * 100))\n",
        "re['Adaline']=(accuracy_score(y_test, y_pred) * 100)"
      ],
      "metadata": {
        "colab": {
          "base_uri": "https://localhost:8080/"
        },
        "id": "sHw18sPtGRSg",
        "outputId": "f0a62684-5154-4e85-d6c8-ed8df0fc64bb"
      },
      "execution_count": null,
      "outputs": [
        {
          "output_type": "stream",
          "name": "stdout",
          "text": [
            "98.24561403508771\n"
          ]
        }
      ]
    },
    {
      "cell_type": "markdown",
      "source": [
        "# SVM"
      ],
      "metadata": {
        "id": "xj63mmSmH8iW"
      }
    },
    {
      "cell_type": "code",
      "source": [
        "svc=SVC(kernel='linear',C=1)\n",
        "svc.fit(X_train_sc,y_train)\n",
        "y_pred = svc.predict(X_test)\n",
        "print((accuracy_score(y_test, y_pred) * 100))\n",
        "re['SVM']=(accuracy_score(y_test, y_pred) * 100)"
      ],
      "metadata": {
        "colab": {
          "base_uri": "https://localhost:8080/"
        },
        "id": "3BOx2LcyHzlr",
        "outputId": "279e5256-384a-4248-d74d-c5e637469ffd"
      },
      "execution_count": null,
      "outputs": [
        {
          "output_type": "stream",
          "name": "stdout",
          "text": [
            "98.24561403508771\n"
          ]
        }
      ]
    },
    {
      "cell_type": "markdown",
      "source": [
        "# Final Result"
      ],
      "metadata": {
        "id": "IYu_rpsRNp1v"
      }
    },
    {
      "cell_type": "code",
      "source": [
        "for key,value in re.items():\n",
        "  print (key,\" \",value.round(2))"
      ],
      "metadata": {
        "colab": {
          "base_uri": "https://localhost:8080/"
        },
        "id": "7nYWpIcYLdfj",
        "outputId": "b8487432-fa3d-4219-ff4d-edf99ada76f8"
      },
      "execution_count": null,
      "outputs": [
        {
          "output_type": "stream",
          "name": "stdout",
          "text": [
            "Decision Tree   90.64\n",
            "Random Forest   96.49\n",
            "Logistic Regression   96.49\n",
            "KNeighbors   96.49\n",
            "Perceptron   61.99\n",
            "Adaline   98.25\n",
            "SVM   98.25\n"
          ]
        }
      ]
    },
    {
      "cell_type": "markdown",
      "source": [
        "# Data Processing Using << Standard Scaler >>"
      ],
      "metadata": {
        "id": "GM8HPrsTJCRQ"
      }
    },
    {
      "cell_type": "code",
      "source": [
        "X_train, X_test, y_train, y_test = train_test_split(X, y,stratify=y, test_size=0.3)"
      ],
      "metadata": {
        "id": "GjYhFRUpIPqT"
      },
      "execution_count": null,
      "outputs": []
    },
    {
      "cell_type": "code",
      "source": [
        "from sklearn.preprocessing import StandardScaler\n",
        "\n",
        "scaler = StandardScaler() # default range (0,1)\n",
        "scaler.fit(X_train) # Compute the minimum and maximum to be used for later scaling.\n",
        "X_train_sc = scaler.transform(X_train) # Fit to data, then transform it.\n",
        "X_test=scaler.transform(X_test)"
      ],
      "metadata": {
        "id": "oXJ7JcPWIPnU"
      },
      "execution_count": null,
      "outputs": []
    },
    {
      "cell_type": "markdown",
      "source": [
        "# Logistic Regression"
      ],
      "metadata": {
        "id": "HB3aAJVKJQRC"
      }
    },
    {
      "cell_type": "code",
      "source": [
        "clf = LogisticRegression(max_iter=1000)\n",
        "clf.fit(X_train_sc,y_train)\n",
        "y_pred = clf.predict(X_test)\n",
        "print((accuracy_score(y_test, y_pred) * 100))\n",
        "re['Logistic Regression']=(accuracy_score(y_test, y_pred) * 100)"
      ],
      "metadata": {
        "colab": {
          "base_uri": "https://localhost:8080/"
        },
        "id": "SHrMDRjzI2Yb",
        "outputId": "9ee278c9-ce9c-489b-9d3b-ecec76cb97d6"
      },
      "execution_count": null,
      "outputs": [
        {
          "output_type": "stream",
          "name": "stdout",
          "text": [
            "97.6608187134503\n"
          ]
        }
      ]
    },
    {
      "cell_type": "markdown",
      "source": [
        "# KNeighbors"
      ],
      "metadata": {
        "id": "NBRMrHdjJnbJ"
      }
    },
    {
      "cell_type": "code",
      "source": [
        "knn=KNeighborsClassifier(n_neighbors=9)\n",
        "knn.fit(X_train_sc,y_train)\n",
        "y_pred = knn.predict(X_test)\n",
        "print((accuracy_score(y_test, y_pred) * 100))\n",
        "re['KNeighbors']=(accuracy_score(y_test, y_pred) * 100)"
      ],
      "metadata": {
        "colab": {
          "base_uri": "https://localhost:8080/"
        },
        "outputId": "8b04bca0-4b7a-453d-f731-258b8c243bb3",
        "id": "AutzTqZRJnbK"
      },
      "execution_count": null,
      "outputs": [
        {
          "output_type": "stream",
          "name": "stdout",
          "text": [
            "95.32163742690058\n"
          ]
        }
      ]
    },
    {
      "cell_type": "markdown",
      "source": [
        "# Perceptron"
      ],
      "metadata": {
        "id": "yyannZcBJnbL"
      }
    },
    {
      "cell_type": "code",
      "source": [
        "p=Perceptron(eta0=0.001,max_iter=1000)\n",
        "p.fit(X_train_sc,y_train)\n",
        "y_pred = p.predict(X_test)\n",
        "print((accuracy_score(y_test, y_pred) * 100))\n",
        "re['Perceptron']=(accuracy_score(y_test, y_pred) * 100)"
      ],
      "metadata": {
        "colab": {
          "base_uri": "https://localhost:8080/"
        },
        "outputId": "18c4cd55-5318-4de8-d659-1d9e162dd944",
        "id": "wz3bJweKJnbL"
      },
      "execution_count": null,
      "outputs": [
        {
          "output_type": "stream",
          "name": "stdout",
          "text": [
            "94.73684210526315\n"
          ]
        }
      ]
    },
    {
      "cell_type": "markdown",
      "source": [
        "# Adaline"
      ],
      "metadata": {
        "id": "Zm_hHxwnJxD_"
      }
    },
    {
      "cell_type": "code",
      "source": [
        "ad=SGDClassifier(max_iter=100,eta0=0.001)\n",
        "ad.fit(X_train_sc,y_train)\n",
        "y_pred = ad.predict(X_test)\n",
        "print((accuracy_score(y_test, y_pred) * 100))\n",
        "re['Adaline']=(accuracy_score(y_test, y_pred) * 100)"
      ],
      "metadata": {
        "colab": {
          "base_uri": "https://localhost:8080/"
        },
        "outputId": "b290fa05-7268-47ff-cde8-6998e7b6fed8",
        "id": "tytl3I0TJnbM"
      },
      "execution_count": null,
      "outputs": [
        {
          "output_type": "stream",
          "name": "stdout",
          "text": [
            "96.49122807017544\n"
          ]
        }
      ]
    },
    {
      "cell_type": "markdown",
      "source": [
        "# SVM"
      ],
      "metadata": {
        "id": "LoOCdiw8JnbN"
      }
    },
    {
      "cell_type": "code",
      "source": [
        "svc=SVC(kernel='linear',C=1)\n",
        "svc.fit(X_train_sc,y_train)\n",
        "y_pred = svc.predict(X_test)\n",
        "print((accuracy_score(y_test, y_pred) * 100))\n",
        "re['SVM']=(accuracy_score(y_test, y_pred) * 100)"
      ],
      "metadata": {
        "colab": {
          "base_uri": "https://localhost:8080/"
        },
        "outputId": "d20fc936-74d6-4f48-a91d-876845e5eeb6",
        "id": "pJgDklviJnbN"
      },
      "execution_count": null,
      "outputs": [
        {
          "output_type": "stream",
          "name": "stdout",
          "text": [
            "98.24561403508771\n"
          ]
        }
      ]
    },
    {
      "cell_type": "markdown",
      "source": [
        "# Final Result"
      ],
      "metadata": {
        "id": "To_2oIo8JnbO"
      }
    },
    {
      "cell_type": "code",
      "source": [
        "for key,value in re.items():\n",
        "  print (key,\" \",value.round(2))"
      ],
      "metadata": {
        "colab": {
          "base_uri": "https://localhost:8080/"
        },
        "outputId": "4a759ed8-69ca-4387-c52b-d162c25eeb9b",
        "id": "--VwPFD2JnbO"
      },
      "execution_count": null,
      "outputs": [
        {
          "output_type": "stream",
          "name": "stdout",
          "text": [
            "Decision Tree   90.64\n",
            "Random Forest   96.49\n",
            "Logistic Regression   97.66\n",
            "KNeighbors   95.32\n",
            "Perceptron   94.74\n",
            "Adaline   96.49\n",
            "SVM   98.25\n"
          ]
        }
      ]
    }
  ]
}